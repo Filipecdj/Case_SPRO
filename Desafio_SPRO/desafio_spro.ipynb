{
 "cells": [
  {
   "cell_type": "code",
   "execution_count": 1,
   "metadata": {},
   "outputs": [],
   "source": [
    "from pymongo import MongoClient\n",
    "import pandas as pd"
   ]
  },
  {
   "cell_type": "code",
   "execution_count": 2,
   "metadata": {},
   "outputs": [],
   "source": [
    "def conectar_mongodb():\n",
    "    \"\"\"\n",
    "    Conecta ao banco de dados MongoDB e retorna as coleções relevantes.\n",
    "\n",
    "    Returns:\n",
    "        tuple: Uma tupla contendo as coleções 'collection_carros', 'collection_montadoras' e 'collection_resultado'.\n",
    "    \"\"\"\n",
    "    client = MongoClient('localhost', 27017)\n",
    "    db = client['local']\n",
    "    collection_carros = db['carros']\n",
    "    collection_montadoras = db['montadoras']\n",
    "    collection_resultado = db['resultado']\n",
    "    return collection_carros, collection_montadoras, collection_resultado"
   ]
  },
  {
   "cell_type": "code",
   "execution_count": 3,
   "metadata": {},
   "outputs": [],
   "source": [
    "def criar_dataframe_carros():\n",
    "    \"\"\"\n",
    "    Cria um DataFrame 'carros' com dados predefinidos.\n",
    "\n",
    "    Returns:\n",
    "        pd.DataFrame: DataFrame contendo informações sobre carros.\n",
    "    \"\"\"\n",
    "    dados_carros = {\n",
    "        'Carro': ['Onix', 'Polo', 'Sandero', 'Fiesta', 'City'],\n",
    "        'Cor': ['Prata', 'Branco', 'Prata', 'Vermelho', 'Preto'],\n",
    "        'Montadora': ['Chevrolet', 'Volkswagen', 'Renault', 'Ford', 'Honda']\n",
    "    }\n",
    "    carros = pd.DataFrame(dados_carros)\n",
    "    return carros"
   ]
  },
  {
   "cell_type": "code",
   "execution_count": 4,
   "metadata": {},
   "outputs": [],
   "source": [
    "def criar_dataframe_montadoras():\n",
    "    \"\"\"\n",
    "    Cria um DataFrame 'montadoras' com dados predefinidos.\n",
    "\n",
    "    Returns:\n",
    "        pd.DataFrame: DataFrame contendo informações sobre montadoras.\n",
    "    \"\"\"\n",
    "    dados_montadoras = {\n",
    "        'Montadora': ['Chevrolet', 'Volkswagen', 'Renault', 'Ford', 'Honda'],\n",
    "        'País': ['EUA', 'Alemanha', 'França', 'EUA', 'Japão']\n",
    "    }\n",
    "    montadoras = pd.DataFrame(dados_montadoras)\n",
    "    return montadoras"
   ]
  },
  {
   "cell_type": "code",
   "execution_count": 5,
   "metadata": {},
   "outputs": [],
   "source": [
    "def inserir_dataframes_no_mongodb(collection_carros, collection_montadoras, carros, montadoras):\n",
    "    \"\"\"\n",
    "    Insere DataFrames no banco de dados MongoDB.\n",
    "\n",
    "    Args:\n",
    "        collection_carros: Coleção de carros no MongoDB.\n",
    "        collection_montadoras: Coleção de montadoras no MongoDB.\n",
    "        carros (pd.DataFrame): DataFrame contendo informações sobre carros.\n",
    "        montadoras (pd.DataFrame): DataFrame contendo informações sobre montadoras.\n",
    "    \"\"\"\n",
    "    collection_carros.insert_many(carros.to_dict('records'))\n",
    "    collection_montadoras.insert_many(montadoras.to_dict('records'))"
   ]
  },
  {
   "cell_type": "code",
   "execution_count": 6,
   "metadata": {},
   "outputs": [],
   "source": [
    "def realizar_agregacao(collection_carros, collection_resultado):\n",
    "    \"\"\"\n",
    "    Realiza uma operação de agregação entre as coleções 'collection_carros' e 'collection_montadoras',\n",
    "    e insere o resultado na coleção 'collection_resultado'.\n",
    "\n",
    "    Args:\n",
    "        collection_carros: Coleção de carros no MongoDB.\n",
    "        collection_resultado: Coleção de resultado no MongoDB.\n",
    "\n",
    "    Returns:\n",
    "        list: Lista contendo o resultado da operação de agregação.\n",
    "    \"\"\"\n",
    "    pipeline = [\n",
    "        {\n",
    "            '$lookup': {\n",
    "                'from': 'montadoras',\n",
    "                'localField': 'Montadora',\n",
    "                'foreignField': 'Montadora',\n",
    "                'as': 'montadoras'\n",
    "            }\n",
    "        },\n",
    "        {\n",
    "            '$unwind': '$montadoras'\n",
    "        },\n",
    "        {\n",
    "            '$group': {\n",
    "                '_id': '$montadoras.País',\n",
    "                'Carros': {\n",
    "                    '$push': {\n",
    "                        'Carro': '$Carro',\n",
    "                        'Cor': '$Cor'\n",
    "                    }\n",
    "                }\n",
    "            }\n",
    "        }\n",
    "    ]\n",
    "\n",
    "    result = list(collection_carros.aggregate(pipeline))\n",
    "    collection_resultado.insert_many(result)\n",
    "    return result"
   ]
  },
  {
   "cell_type": "code",
   "execution_count": 7,
   "metadata": {},
   "outputs": [],
   "source": [
    "def pipeline_desafio():\n",
    "    \"\"\"\n",
    "    Função principal que orquestra as operações do script.\n",
    "    \"\"\"\n",
    "    collection_carros, collection_montadoras, collection_resultado = conectar_mongodb()\n",
    "\n",
    "    carros = criar_dataframe_carros()\n",
    "    montadoras = criar_dataframe_montadoras()\n",
    "\n",
    "    inserir_dataframes_no_mongodb(collection_carros, collection_montadoras, carros, montadoras)\n",
    "\n",
    "    resultado = realizar_agregacao(collection_carros, collection_resultado)\n",
    "\n",
    "    print(resultado)\n"
   ]
  },
  {
   "cell_type": "code",
   "execution_count": 8,
   "metadata": {},
   "outputs": [
    {
     "name": "stdout",
     "output_type": "stream",
     "text": [
      "[{'_id': 'Japão', 'Carros': [{'Carro': 'City', 'Cor': 'Preto'}]}, {'_id': 'França', 'Carros': [{'Carro': 'Sandero', 'Cor': 'Prata'}]}, {'_id': 'EUA', 'Carros': [{'Carro': 'Onix', 'Cor': 'Prata'}, {'Carro': 'Fiesta', 'Cor': 'Vermelho'}]}, {'_id': 'Alemanha', 'Carros': [{'Carro': 'Polo', 'Cor': 'Branco'}]}]\n"
     ]
    }
   ],
   "source": [
    "pipeline_desafio()"
   ]
  }
 ],
 "metadata": {
  "kernelspec": {
   "display_name": "Python 3",
   "language": "python",
   "name": "python3"
  },
  "language_info": {
   "codemirror_mode": {
    "name": "ipython",
    "version": 3
   },
   "file_extension": ".py",
   "mimetype": "text/x-python",
   "name": "python",
   "nbconvert_exporter": "python",
   "pygments_lexer": "ipython3",
   "version": "3.10.11"
  },
  "orig_nbformat": 4
 },
 "nbformat": 4,
 "nbformat_minor": 2
}
